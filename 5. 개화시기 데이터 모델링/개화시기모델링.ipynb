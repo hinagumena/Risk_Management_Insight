{
  "nbformat": 4,
  "nbformat_minor": 0,
  "metadata": {
    "colab": {
      "provenance": []
    },
    "kernelspec": {
      "name": "python3",
      "display_name": "Python 3"
    },
    "language_info": {
      "name": "python"
    },
    "widgets": {
      "application/vnd.jupyter.widget-state+json": {
        "2fe1f4e0e07c4dbcba6d67953ba403fb": {
          "model_module": "@jupyter-widgets/controls",
          "model_name": "HBoxModel",
          "model_module_version": "1.5.0",
          "state": {
            "_dom_classes": [],
            "_model_module": "@jupyter-widgets/controls",
            "_model_module_version": "1.5.0",
            "_model_name": "HBoxModel",
            "_view_count": null,
            "_view_module": "@jupyter-widgets/controls",
            "_view_module_version": "1.5.0",
            "_view_name": "HBoxView",
            "box_style": "",
            "children": [
              "IPY_MODEL_3cc419bc4145420aa8f34a59f2f16304",
              "IPY_MODEL_641ffc25712b4e9aaccfd5d9e9f7dc7b",
              "IPY_MODEL_916905863565496490e24eb2a5daa70b"
            ],
            "layout": "IPY_MODEL_1545427c0425456ebccbd5155e2c9bf6"
          }
        },
        "3cc419bc4145420aa8f34a59f2f16304": {
          "model_module": "@jupyter-widgets/controls",
          "model_name": "HTMLModel",
          "model_module_version": "1.5.0",
          "state": {
            "_dom_classes": [],
            "_model_module": "@jupyter-widgets/controls",
            "_model_module_version": "1.5.0",
            "_model_name": "HTMLModel",
            "_view_count": null,
            "_view_module": "@jupyter-widgets/controls",
            "_view_module_version": "1.5.0",
            "_view_name": "HTMLView",
            "description": "",
            "description_tooltip": null,
            "layout": "IPY_MODEL_58bea544b4ed40459ddd2fec4dfab452",
            "placeholder": "​",
            "style": "IPY_MODEL_b92b9f54ac9c4cd088a11f7b8ce2555e",
            "value": "Best trial: 13. Best value: 3.65708: 100%"
          }
        },
        "641ffc25712b4e9aaccfd5d9e9f7dc7b": {
          "model_module": "@jupyter-widgets/controls",
          "model_name": "FloatProgressModel",
          "model_module_version": "1.5.0",
          "state": {
            "_dom_classes": [],
            "_model_module": "@jupyter-widgets/controls",
            "_model_module_version": "1.5.0",
            "_model_name": "FloatProgressModel",
            "_view_count": null,
            "_view_module": "@jupyter-widgets/controls",
            "_view_module_version": "1.5.0",
            "_view_name": "ProgressView",
            "bar_style": "success",
            "description": "",
            "description_tooltip": null,
            "layout": "IPY_MODEL_36027a4408a64e1bb46668cce9e83f82",
            "max": 20,
            "min": 0,
            "orientation": "horizontal",
            "style": "IPY_MODEL_c9909ad2ef3547eab673d8519a980d6d",
            "value": 20
          }
        },
        "916905863565496490e24eb2a5daa70b": {
          "model_module": "@jupyter-widgets/controls",
          "model_name": "HTMLModel",
          "model_module_version": "1.5.0",
          "state": {
            "_dom_classes": [],
            "_model_module": "@jupyter-widgets/controls",
            "_model_module_version": "1.5.0",
            "_model_name": "HTMLModel",
            "_view_count": null,
            "_view_module": "@jupyter-widgets/controls",
            "_view_module_version": "1.5.0",
            "_view_name": "HTMLView",
            "description": "",
            "description_tooltip": null,
            "layout": "IPY_MODEL_ad97eebd543440b5a0fb44cadc17d67e",
            "placeholder": "​",
            "style": "IPY_MODEL_4e8f43065e4445f3828d3efa8f415b01",
            "value": " 20/20 [00:34&lt;00:00,  1.49s/it]"
          }
        },
        "1545427c0425456ebccbd5155e2c9bf6": {
          "model_module": "@jupyter-widgets/base",
          "model_name": "LayoutModel",
          "model_module_version": "1.2.0",
          "state": {
            "_model_module": "@jupyter-widgets/base",
            "_model_module_version": "1.2.0",
            "_model_name": "LayoutModel",
            "_view_count": null,
            "_view_module": "@jupyter-widgets/base",
            "_view_module_version": "1.2.0",
            "_view_name": "LayoutView",
            "align_content": null,
            "align_items": null,
            "align_self": null,
            "border": null,
            "bottom": null,
            "display": null,
            "flex": null,
            "flex_flow": null,
            "grid_area": null,
            "grid_auto_columns": null,
            "grid_auto_flow": null,
            "grid_auto_rows": null,
            "grid_column": null,
            "grid_gap": null,
            "grid_row": null,
            "grid_template_areas": null,
            "grid_template_columns": null,
            "grid_template_rows": null,
            "height": null,
            "justify_content": null,
            "justify_items": null,
            "left": null,
            "margin": null,
            "max_height": null,
            "max_width": null,
            "min_height": null,
            "min_width": null,
            "object_fit": null,
            "object_position": null,
            "order": null,
            "overflow": null,
            "overflow_x": null,
            "overflow_y": null,
            "padding": null,
            "right": null,
            "top": null,
            "visibility": null,
            "width": null
          }
        },
        "58bea544b4ed40459ddd2fec4dfab452": {
          "model_module": "@jupyter-widgets/base",
          "model_name": "LayoutModel",
          "model_module_version": "1.2.0",
          "state": {
            "_model_module": "@jupyter-widgets/base",
            "_model_module_version": "1.2.0",
            "_model_name": "LayoutModel",
            "_view_count": null,
            "_view_module": "@jupyter-widgets/base",
            "_view_module_version": "1.2.0",
            "_view_name": "LayoutView",
            "align_content": null,
            "align_items": null,
            "align_self": null,
            "border": null,
            "bottom": null,
            "display": null,
            "flex": null,
            "flex_flow": null,
            "grid_area": null,
            "grid_auto_columns": null,
            "grid_auto_flow": null,
            "grid_auto_rows": null,
            "grid_column": null,
            "grid_gap": null,
            "grid_row": null,
            "grid_template_areas": null,
            "grid_template_columns": null,
            "grid_template_rows": null,
            "height": null,
            "justify_content": null,
            "justify_items": null,
            "left": null,
            "margin": null,
            "max_height": null,
            "max_width": null,
            "min_height": null,
            "min_width": null,
            "object_fit": null,
            "object_position": null,
            "order": null,
            "overflow": null,
            "overflow_x": null,
            "overflow_y": null,
            "padding": null,
            "right": null,
            "top": null,
            "visibility": null,
            "width": null
          }
        },
        "b92b9f54ac9c4cd088a11f7b8ce2555e": {
          "model_module": "@jupyter-widgets/controls",
          "model_name": "DescriptionStyleModel",
          "model_module_version": "1.5.0",
          "state": {
            "_model_module": "@jupyter-widgets/controls",
            "_model_module_version": "1.5.0",
            "_model_name": "DescriptionStyleModel",
            "_view_count": null,
            "_view_module": "@jupyter-widgets/base",
            "_view_module_version": "1.2.0",
            "_view_name": "StyleView",
            "description_width": ""
          }
        },
        "36027a4408a64e1bb46668cce9e83f82": {
          "model_module": "@jupyter-widgets/base",
          "model_name": "LayoutModel",
          "model_module_version": "1.2.0",
          "state": {
            "_model_module": "@jupyter-widgets/base",
            "_model_module_version": "1.2.0",
            "_model_name": "LayoutModel",
            "_view_count": null,
            "_view_module": "@jupyter-widgets/base",
            "_view_module_version": "1.2.0",
            "_view_name": "LayoutView",
            "align_content": null,
            "align_items": null,
            "align_self": null,
            "border": null,
            "bottom": null,
            "display": null,
            "flex": null,
            "flex_flow": null,
            "grid_area": null,
            "grid_auto_columns": null,
            "grid_auto_flow": null,
            "grid_auto_rows": null,
            "grid_column": null,
            "grid_gap": null,
            "grid_row": null,
            "grid_template_areas": null,
            "grid_template_columns": null,
            "grid_template_rows": null,
            "height": null,
            "justify_content": null,
            "justify_items": null,
            "left": null,
            "margin": null,
            "max_height": null,
            "max_width": null,
            "min_height": null,
            "min_width": null,
            "object_fit": null,
            "object_position": null,
            "order": null,
            "overflow": null,
            "overflow_x": null,
            "overflow_y": null,
            "padding": null,
            "right": null,
            "top": null,
            "visibility": null,
            "width": null
          }
        },
        "c9909ad2ef3547eab673d8519a980d6d": {
          "model_module": "@jupyter-widgets/controls",
          "model_name": "ProgressStyleModel",
          "model_module_version": "1.5.0",
          "state": {
            "_model_module": "@jupyter-widgets/controls",
            "_model_module_version": "1.5.0",
            "_model_name": "ProgressStyleModel",
            "_view_count": null,
            "_view_module": "@jupyter-widgets/base",
            "_view_module_version": "1.2.0",
            "_view_name": "StyleView",
            "bar_color": null,
            "description_width": ""
          }
        },
        "ad97eebd543440b5a0fb44cadc17d67e": {
          "model_module": "@jupyter-widgets/base",
          "model_name": "LayoutModel",
          "model_module_version": "1.2.0",
          "state": {
            "_model_module": "@jupyter-widgets/base",
            "_model_module_version": "1.2.0",
            "_model_name": "LayoutModel",
            "_view_count": null,
            "_view_module": "@jupyter-widgets/base",
            "_view_module_version": "1.2.0",
            "_view_name": "LayoutView",
            "align_content": null,
            "align_items": null,
            "align_self": null,
            "border": null,
            "bottom": null,
            "display": null,
            "flex": null,
            "flex_flow": null,
            "grid_area": null,
            "grid_auto_columns": null,
            "grid_auto_flow": null,
            "grid_auto_rows": null,
            "grid_column": null,
            "grid_gap": null,
            "grid_row": null,
            "grid_template_areas": null,
            "grid_template_columns": null,
            "grid_template_rows": null,
            "height": null,
            "justify_content": null,
            "justify_items": null,
            "left": null,
            "margin": null,
            "max_height": null,
            "max_width": null,
            "min_height": null,
            "min_width": null,
            "object_fit": null,
            "object_position": null,
            "order": null,
            "overflow": null,
            "overflow_x": null,
            "overflow_y": null,
            "padding": null,
            "right": null,
            "top": null,
            "visibility": null,
            "width": null
          }
        },
        "4e8f43065e4445f3828d3efa8f415b01": {
          "model_module": "@jupyter-widgets/controls",
          "model_name": "DescriptionStyleModel",
          "model_module_version": "1.5.0",
          "state": {
            "_model_module": "@jupyter-widgets/controls",
            "_model_module_version": "1.5.0",
            "_model_name": "DescriptionStyleModel",
            "_view_count": null,
            "_view_module": "@jupyter-widgets/base",
            "_view_module_version": "1.2.0",
            "_view_name": "StyleView",
            "description_width": ""
          }
        }
      }
    }
  },
  "cells": [
    {
      "cell_type": "code",
      "execution_count": null,
      "metadata": {
        "colab": {
          "base_uri": "https://localhost:8080/"
        },
        "id": "_2ZnlfYpO3ps",
        "outputId": "235868bc-f2eb-4e94-b000-6bc9d992aece"
      },
      "outputs": [
        {
          "output_type": "stream",
          "name": "stdout",
          "text": [
            "Mounted at /content/drive\n"
          ]
        }
      ],
      "source": [
        "from google.colab import drive\n",
        "drive.mount('/content/drive')"
      ]
    },
    {
      "cell_type": "code",
      "source": [
        "import pandas as pd\n",
        "import numpy as np\n",
        "import matplotlib.pyplot as plt\n",
        "import seaborn as sns\n",
        "import os\n",
        "import warnings\n",
        "warnings.filterwarnings('ignore')\n",
        "from tqdm import tqdm"
      ],
      "metadata": {
        "id": "C7NIlncHO9qQ"
      },
      "execution_count": null,
      "outputs": []
    },
    {
      "cell_type": "code",
      "source": [
        "os.chdir('/content/drive/MyDrive/리스크공모전')\n",
        "os.getcwd()"
      ],
      "metadata": {
        "colab": {
          "base_uri": "https://localhost:8080/",
          "height": 35
        },
        "id": "bEz7nPJlPJ5w",
        "outputId": "99c978a7-d8ec-4d06-b80f-9f4541ad80dd"
      },
      "execution_count": null,
      "outputs": [
        {
          "output_type": "execute_result",
          "data": {
            "text/plain": [
              "'/content/drive/MyDrive/리스크공모전'"
            ],
            "application/vnd.google.colaboratory.intrinsic+json": {
              "type": "string"
            }
          },
          "metadata": {},
          "execution_count": 3
        }
      ]
    },
    {
      "cell_type": "code",
      "source": [
        "peach=pd.read_csv('복숭아 개화 데이터.csv', encoding='cp949')\n",
        "pair=pd.read_csv('배 개화 데이터.csv', encoding='cp949')"
      ],
      "metadata": {
        "id": "qTBk0NXaPOWV"
      },
      "execution_count": null,
      "outputs": []
    },
    {
      "cell_type": "code",
      "source": [
        "peach.drop(['index'], axis=1, inplace=True)\n",
        "pair.drop(['index'], axis=1, inplace=True)"
      ],
      "metadata": {
        "id": "QPOlE8x1UhDp"
      },
      "execution_count": null,
      "outputs": []
    },
    {
      "cell_type": "code",
      "source": [
        "peach['지점'].unique()"
      ],
      "metadata": {
        "colab": {
          "base_uri": "https://localhost:8080/"
        },
        "id": "z1QrUTt9XXoF",
        "outputId": "a9e83207-b08e-4e34-e546-8ed9f3a82176"
      },
      "execution_count": null,
      "outputs": [
        {
          "output_type": "execute_result",
          "data": {
            "text/plain": [
              "array(['강릉', '대관령', '동해', '북강릉', '북춘천', '삼척', '속초', '영월', '원주', '인제',\n",
              "       '철원', '춘천', '태백', '홍천', '동두천', '수원', '양평', '이천', '파주', '거제', '거창',\n",
              "       '남해', '밀양', '산청', '진주', '창원', '통영', '합천', '구미', '문경', '봉화', '상주',\n",
              "       '안동', '영덕', '영주', '영천', '울릉도', '울진', '의성', '포항', '광주', '대구',\n",
              "       '대구(기)', '대전', '부산', '서울', '울산', '강화', '백령도', '인천', '고흥', '목포',\n",
              "       '무안', '순천', '여수', '완도', '장흥', '주암', '진도(첨찰산)', '해남', '흑산도', '고창',\n",
              "       '고창군', '군산', '남원', '부안', '임실', '장수', '전주', '정읍', '고산', '서귀포', '성산',\n",
              "       '성산포', '제주', '금산', '보령', '부여', '서산', '천안', '홍성', '보은', '제천', '청주',\n",
              "       '추풍령', '충주'], dtype=object)"
            ]
          },
          "metadata": {},
          "execution_count": 18
        }
      ]
    },
    {
      "cell_type": "code",
      "source": [
        "peach.columns"
      ],
      "metadata": {
        "colab": {
          "base_uri": "https://localhost:8080/"
        },
        "id": "8gZ8jdfweikD",
        "outputId": "cf3eaa3c-f6d0-41b0-b858-b3c5b784a59c"
      },
      "execution_count": null,
      "outputs": [
        {
          "output_type": "execute_result",
          "data": {
            "text/plain": [
              "Index(['지점', '연', '복숭아 개화', '복숭아 개화(평비)', '365', '서리끝', '서리끝(평비)', '서리365',\n",
              "       '위도', '경도', '고도', '해양', '2_일강수량(mm)_sum', '3_일강수량(mm)_sum',\n",
              "       '2_최고기온(°C)_max', '3_최고기온(°C)_max', '2_최고기온(°C)_mean',\n",
              "       '3_최고기온(°C)_mean', '2_최고기온(°C)_min', '3_최고기온(°C)_min', '2_최저기온(°C)_max',\n",
              "       '3_최저기온(°C)_max', '2_최저기온(°C)_mean', '3_최저기온(°C)_mean',\n",
              "       '2_최저기온(°C)_min', '3_최저기온(°C)_min', '2_평균기온(°C)_max', '3_평균기온(°C)_max',\n",
              "       '2_평균기온(°C)_mean', '3_평균기온(°C)_mean', '2_평균기온(°C)_min',\n",
              "       '3_평균기온(°C)_min', '2_합계 일조시간(hr)_sum', '3_합계 일조시간(hr)_sum'],\n",
              "      dtype='object')"
            ]
          },
          "metadata": {},
          "execution_count": 45
        }
      ]
    },
    {
      "cell_type": "code",
      "source": [
        "#train, test set 지점별로 0.8:0.2\n",
        "def traintest_split(data):\n",
        "    unique_locations=data['지점'].unique()\n",
        "    train=pd.DataFrame()\n",
        "    test=pd.DataFrame()\n",
        "\n",
        "    for location in tqdm(unique_locations, desc='Processing Locations'):\n",
        "        location_data=data[data['지점']==location]\n",
        "        total_rows=len(location_data)\n",
        "        train_rows=int(total_rows*0.8)\n",
        "        tr_data=location_data.iloc[:train_rows]\n",
        "        te_data=location_data.iloc[train_rows:]\n",
        "\n",
        "        train=pd.concat([train, tr_data])\n",
        "        test=pd.concat([test, te_data])\n",
        "    return train, test\n",
        "\n",
        "train_peach, test_peach = traintest_split(peach)\n",
        "train_pair, test_pair = traintest_split(pair)"
      ],
      "metadata": {
        "colab": {
          "base_uri": "https://localhost:8080/"
        },
        "id": "36c6mTbDbTW9",
        "outputId": "96eb0c7a-91e5-41a6-83f5-be08690aa575"
      },
      "execution_count": null,
      "outputs": [
        {
          "output_type": "stream",
          "name": "stderr",
          "text": [
            "Processing Locations: 100%|██████████| 86/86 [00:00<00:00, 360.97it/s]\n",
            "Processing Locations: 100%|██████████| 86/86 [00:00<00:00, 172.04it/s]\n"
          ]
        }
      ]
    },
    {
      "cell_type": "code",
      "source": [
        "train_peach.drop(['지점','연','복숭아 개화','복숭아 개화(평비)','서리끝'],axis=1,inplace=True)\n",
        "test_peach.drop(['지점','연','복숭아 개화','복숭아 개화(평비)','서리끝'],axis=1,inplace=True)\n",
        "train_pair.drop(['지점','연','배나무 개화','배나무 개화(평비)','서리끝'],axis=1,inplace=True)\n",
        "test_pair.drop(['지점','연','배나무 개화','배나무 개화(평비)','서리끝'],axis=1,inplace=True)"
      ],
      "metadata": {
        "id": "JHc8WXdFA_3J"
      },
      "execution_count": null,
      "outputs": []
    },
    {
      "cell_type": "markdown",
      "source": [
        "#RandomForest"
      ],
      "metadata": {
        "id": "XHa46I18e6V6"
      }
    },
    {
      "cell_type": "code",
      "source": [
        "!pip install optuna"
      ],
      "metadata": {
        "colab": {
          "base_uri": "https://localhost:8080/"
        },
        "id": "iYz1JQYHDfAi",
        "outputId": "5ccee5f0-1098-4c14-df2a-2bf18f051693"
      },
      "execution_count": null,
      "outputs": [
        {
          "output_type": "stream",
          "name": "stdout",
          "text": [
            "Collecting optuna\n",
            "  Downloading optuna-3.3.0-py3-none-any.whl (404 kB)\n",
            "\u001b[2K     \u001b[90m━━━━━━━━━━━━━━━━━━━━━━━━━━━━━━━━━━━━━━━\u001b[0m \u001b[32m404.2/404.2 kB\u001b[0m \u001b[31m3.8 MB/s\u001b[0m eta \u001b[36m0:00:00\u001b[0m\n",
            "\u001b[?25hCollecting alembic>=1.5.0 (from optuna)\n",
            "  Downloading alembic-1.12.0-py3-none-any.whl (226 kB)\n",
            "\u001b[2K     \u001b[90m━━━━━━━━━━━━━━━━━━━━━━━━━━━━━━━━━━━━━━\u001b[0m \u001b[32m226.0/226.0 kB\u001b[0m \u001b[31m23.4 MB/s\u001b[0m eta \u001b[36m0:00:00\u001b[0m\n",
            "\u001b[?25hCollecting cmaes>=0.10.0 (from optuna)\n",
            "  Downloading cmaes-0.10.0-py3-none-any.whl (29 kB)\n",
            "Collecting colorlog (from optuna)\n",
            "  Downloading colorlog-6.7.0-py2.py3-none-any.whl (11 kB)\n",
            "Requirement already satisfied: numpy in /usr/local/lib/python3.10/dist-packages (from optuna) (1.23.5)\n",
            "Requirement already satisfied: packaging>=20.0 in /usr/local/lib/python3.10/dist-packages (from optuna) (23.1)\n",
            "Requirement already satisfied: sqlalchemy>=1.3.0 in /usr/local/lib/python3.10/dist-packages (from optuna) (2.0.20)\n",
            "Requirement already satisfied: tqdm in /usr/local/lib/python3.10/dist-packages (from optuna) (4.66.1)\n",
            "Requirement already satisfied: PyYAML in /usr/local/lib/python3.10/dist-packages (from optuna) (6.0.1)\n",
            "Collecting Mako (from alembic>=1.5.0->optuna)\n",
            "  Downloading Mako-1.2.4-py3-none-any.whl (78 kB)\n",
            "\u001b[2K     \u001b[90m━━━━━━━━━━━━━━━━━━━━━━━━━━━━━━━━━━━━━━━━\u001b[0m \u001b[32m78.7/78.7 kB\u001b[0m \u001b[31m7.5 MB/s\u001b[0m eta \u001b[36m0:00:00\u001b[0m\n",
            "\u001b[?25hRequirement already satisfied: typing-extensions>=4 in /usr/local/lib/python3.10/dist-packages (from alembic>=1.5.0->optuna) (4.5.0)\n",
            "Requirement already satisfied: greenlet!=0.4.17 in /usr/local/lib/python3.10/dist-packages (from sqlalchemy>=1.3.0->optuna) (2.0.2)\n",
            "Requirement already satisfied: MarkupSafe>=0.9.2 in /usr/local/lib/python3.10/dist-packages (from Mako->alembic>=1.5.0->optuna) (2.1.3)\n",
            "Installing collected packages: Mako, colorlog, cmaes, alembic, optuna\n",
            "Successfully installed Mako-1.2.4 alembic-1.12.0 cmaes-0.10.0 colorlog-6.7.0 optuna-3.3.0\n"
          ]
        }
      ]
    },
    {
      "cell_type": "code",
      "source": [
        "from sklearn.ensemble import RandomForestRegressor\n",
        "from sklearn.metrics import mean_squared_error, mean_absolute_error, r2_score\n",
        "import optuna"
      ],
      "metadata": {
        "id": "xDhJ3RnsDauh"
      },
      "execution_count": null,
      "outputs": []
    },
    {
      "cell_type": "code",
      "source": [
        "x_train_peach=train_peach.drop(['365'],axis=1)\n",
        "y_train_peach=train_peach['365']\n",
        "x_test_peach=test_peach.drop(['365'],axis=1)\n",
        "y_test_peach=test_peach['365']"
      ],
      "metadata": {
        "id": "aYAs8qY4CO2B"
      },
      "execution_count": null,
      "outputs": []
    },
    {
      "cell_type": "code",
      "source": [
        "model = RandomForestRegressor()\n",
        "model.fit(x_train_peach, y_train_peach)\n",
        "y_predict_peach = model.predict(x_test_peach)\n",
        "y_predict_peach=np.round(y_predict_peach)"
      ],
      "metadata": {
        "id": "-uhpuqXIC2f0"
      },
      "execution_count": null,
      "outputs": []
    },
    {
      "cell_type": "code",
      "source": [
        "mean_absolute_error(y_test_peach, y_predict_peach)"
      ],
      "metadata": {
        "colab": {
          "base_uri": "https://localhost:8080/"
        },
        "id": "wFsEWRerDKX3",
        "outputId": "7ebb13bd-1182-415c-c833-eb4b5df80a20"
      },
      "execution_count": null,
      "outputs": [
        {
          "output_type": "execute_result",
          "data": {
            "text/plain": [
              "3.68"
            ]
          },
          "metadata": {},
          "execution_count": 12
        }
      ]
    },
    {
      "cell_type": "code",
      "source": [
        "# Define objective function\n",
        "def objective(trial):\n",
        "    # Suggest values for hyperparameters\n",
        "    n_estimators = trial.suggest_int(\"n_estimators\", 10, 200, log=True)\n",
        "    max_depth = trial.suggest_int(\"max_depth\", 2, 32)\n",
        "    min_samples_split = trial.suggest_int(\"min_samples_split\", 2, 10)\n",
        "    min_samples_leaf = trial.suggest_int(\"min_samples_leaf\", 1, 10)\n",
        "\n",
        "    # Create and fit random forest model\n",
        "    model = RandomForestRegressor(\n",
        "    n_estimators=n_estimators,\n",
        "    max_depth=max_depth,\n",
        "    min_samples_split=min_samples_split,\n",
        "    min_samples_leaf=min_samples_leaf,\n",
        "    random_state=42,\n",
        "    )\n",
        "    model.fit(x_train_peach, y_train_peach)\n",
        "\n",
        "    # Make predictions and calculate RMSE\n",
        "    y_pred_peach = model.predict(x_test_peach)\n",
        "    rmse = np.sqrt(mean_squared_error(y_test_peach, y_pred_peach))\n",
        "    mae = mean_absolute_error(y_test_peach, y_pred_peach)\n",
        "    r2 = r2_score(y_test_peach, y_pred_peach)\n",
        "\n",
        "    # Return MAE\n",
        "    return mae"
      ],
      "metadata": {
        "id": "zzUbWe-edD1z"
      },
      "execution_count": null,
      "outputs": []
    },
    {
      "cell_type": "code",
      "source": [
        "# Create study object\n",
        "study = optuna.create_study(direction=\"minimize\")\n",
        "\n",
        "# Run optimization process\n",
        "study.optimize(objective, n_trials=20, show_progress_bar=True)"
      ],
      "metadata": {
        "colab": {
          "base_uri": "https://localhost:8080/",
          "height": 435,
          "referenced_widgets": [
            "2fe1f4e0e07c4dbcba6d67953ba403fb",
            "3cc419bc4145420aa8f34a59f2f16304",
            "641ffc25712b4e9aaccfd5d9e9f7dc7b",
            "916905863565496490e24eb2a5daa70b",
            "1545427c0425456ebccbd5155e2c9bf6",
            "58bea544b4ed40459ddd2fec4dfab452",
            "b92b9f54ac9c4cd088a11f7b8ce2555e",
            "36027a4408a64e1bb46668cce9e83f82",
            "c9909ad2ef3547eab673d8519a980d6d",
            "ad97eebd543440b5a0fb44cadc17d67e",
            "4e8f43065e4445f3828d3efa8f415b01"
          ]
        },
        "id": "XN5XdJtYCt5F",
        "outputId": "55d2cbc1-73d1-476e-8955-5749b4923038"
      },
      "execution_count": null,
      "outputs": [
        {
          "output_type": "stream",
          "name": "stderr",
          "text": [
            "[I 2023-10-02 02:32:20,009] A new study created in memory with name: no-name-73b40b6a-d963-43b7-a4e3-21f250bc6fdf\n"
          ]
        },
        {
          "output_type": "display_data",
          "data": {
            "text/plain": [
              "  0%|          | 0/20 [00:00<?, ?it/s]"
            ],
            "application/vnd.jupyter.widget-view+json": {
              "version_major": 2,
              "version_minor": 0,
              "model_id": "2fe1f4e0e07c4dbcba6d67953ba403fb"
            }
          },
          "metadata": {}
        },
        {
          "output_type": "stream",
          "name": "stdout",
          "text": [
            "[I 2023-10-02 02:32:21,712] Trial 0 finished with value: 3.7264626739386 and parameters: {'n_estimators': 103, 'max_depth': 8, 'min_samples_split': 4, 'min_samples_leaf': 4}. Best is trial 0 with value: 3.7264626739386.\n",
            "[I 2023-10-02 02:32:22,698] Trial 1 finished with value: 4.198392991372715 and parameters: {'n_estimators': 174, 'max_depth': 2, 'min_samples_split': 3, 'min_samples_leaf': 2}. Best is trial 0 with value: 3.7264626739386.\n",
            "[I 2023-10-02 02:32:23,204] Trial 2 finished with value: 3.74509757041516 and parameters: {'n_estimators': 33, 'max_depth': 8, 'min_samples_split': 10, 'min_samples_leaf': 8}. Best is trial 0 with value: 3.7264626739386.\n",
            "[I 2023-10-02 02:32:23,417] Trial 3 finished with value: 3.877608441441384 and parameters: {'n_estimators': 10, 'max_depth': 24, 'min_samples_split': 9, 'min_samples_leaf': 5}. Best is trial 0 with value: 3.7264626739386.\n",
            "[I 2023-10-02 02:32:25,949] Trial 4 finished with value: 3.703779700910201 and parameters: {'n_estimators': 125, 'max_depth': 21, 'min_samples_split': 4, 'min_samples_leaf': 3}. Best is trial 4 with value: 3.703779700910201.\n",
            "[I 2023-10-02 02:32:26,364] Trial 5 finished with value: 3.8278901335694204 and parameters: {'n_estimators': 34, 'max_depth': 5, 'min_samples_split': 5, 'min_samples_leaf': 7}. Best is trial 4 with value: 3.703779700910201.\n",
            "[I 2023-10-02 02:32:26,940] Trial 6 finished with value: 3.705344454650916 and parameters: {'n_estimators': 31, 'max_depth': 14, 'min_samples_split': 3, 'min_samples_leaf': 5}. Best is trial 4 with value: 3.703779700910201.\n",
            "[I 2023-10-02 02:32:28,226] Trial 7 finished with value: 3.7329767779942515 and parameters: {'n_estimators': 67, 'max_depth': 21, 'min_samples_split': 5, 'min_samples_leaf': 7}. Best is trial 4 with value: 3.703779700910201.\n",
            "[I 2023-10-02 02:32:31,722] Trial 8 finished with value: 3.7065448254857576 and parameters: {'n_estimators': 145, 'max_depth': 13, 'min_samples_split': 9, 'min_samples_leaf': 7}. Best is trial 4 with value: 3.703779700910201.\n",
            "[I 2023-10-02 02:32:32,409] Trial 9 finished with value: 3.7994654900832074 and parameters: {'n_estimators': 30, 'max_depth': 27, 'min_samples_split': 4, 'min_samples_leaf': 9}. Best is trial 4 with value: 3.703779700910201.\n",
            "[I 2023-10-02 02:32:36,755] Trial 10 finished with value: 3.695923821645796 and parameters: {'n_estimators': 190, 'max_depth': 32, 'min_samples_split': 7, 'min_samples_leaf': 1}. Best is trial 10 with value: 3.695923821645796.\n",
            "[I 2023-10-02 02:32:40,447] Trial 11 finished with value: 3.7043452789650395 and parameters: {'n_estimators': 175, 'max_depth': 32, 'min_samples_split': 7, 'min_samples_leaf': 2}. Best is trial 10 with value: 3.695923821645796.\n",
            "[I 2023-10-02 02:32:42,369] Trial 12 finished with value: 3.6868996459057355 and parameters: {'n_estimators': 96, 'max_depth': 32, 'min_samples_split': 7, 'min_samples_leaf': 3}. Best is trial 12 with value: 3.6868996459057355.\n",
            "[I 2023-10-02 02:32:45,079] Trial 13 finished with value: 3.657083786693154 and parameters: {'n_estimators': 87, 'max_depth': 30, 'min_samples_split': 7, 'min_samples_leaf': 1}. Best is trial 13 with value: 3.657083786693154.\n",
            "[I 2023-10-02 02:32:47,669] Trial 14 finished with value: 3.667209234093703 and parameters: {'n_estimators': 80, 'max_depth': 28, 'min_samples_split': 7, 'min_samples_leaf': 1}. Best is trial 13 with value: 3.657083786693154.\n",
            "[I 2023-10-02 02:32:49,274] Trial 15 finished with value: 3.6940219150695395 and parameters: {'n_estimators': 71, 'max_depth': 26, 'min_samples_split': 8, 'min_samples_leaf': 1}. Best is trial 13 with value: 3.657083786693154.\n",
            "[I 2023-10-02 02:32:50,605] Trial 16 finished with value: 3.684672249266538 and parameters: {'n_estimators': 58, 'max_depth': 28, 'min_samples_split': 6, 'min_samples_leaf': 1}. Best is trial 13 with value: 3.657083786693154.\n",
            "[I 2023-10-02 02:32:52,056] Trial 17 finished with value: 3.756884312137691 and parameters: {'n_estimators': 96, 'max_depth': 21, 'min_samples_split': 6, 'min_samples_leaf': 10}. Best is trial 13 with value: 3.657083786693154.\n",
            "[I 2023-10-02 02:32:53,253] Trial 18 finished with value: 3.6856607966777744 and parameters: {'n_estimators': 58, 'max_depth': 18, 'min_samples_split': 8, 'min_samples_leaf': 3}. Best is trial 13 with value: 3.657083786693154.\n",
            "[I 2023-10-02 02:32:54,387] Trial 19 finished with value: 3.722175676222871 and parameters: {'n_estimators': 49, 'max_depth': 29, 'min_samples_split': 2, 'min_samples_leaf': 2}. Best is trial 13 with value: 3.657083786693154.\n"
          ]
        }
      ]
    },
    {
      "cell_type": "code",
      "source": [
        "# Print best trial and best hyperparameters\n",
        "print(\"Best trial:\", study.best_trial)\n",
        "print(\"Best hyperparameters:\", study.best_params)"
      ],
      "metadata": {
        "colab": {
          "base_uri": "https://localhost:8080/"
        },
        "id": "fni7Bbw_CwGR",
        "outputId": "c81720a8-1d50-4da1-c660-40fc9ebd3c30"
      },
      "execution_count": null,
      "outputs": [
        {
          "output_type": "stream",
          "name": "stdout",
          "text": [
            "Best trial: FrozenTrial(number=13, state=TrialState.COMPLETE, values=[3.657083786693154], datetime_start=datetime.datetime(2023, 10, 2, 2, 32, 42, 378273), datetime_complete=datetime.datetime(2023, 10, 2, 2, 32, 45, 79404), params={'n_estimators': 87, 'max_depth': 30, 'min_samples_split': 7, 'min_samples_leaf': 1}, user_attrs={}, system_attrs={}, intermediate_values={}, distributions={'n_estimators': IntDistribution(high=200, log=True, low=10, step=1), 'max_depth': IntDistribution(high=32, log=False, low=2, step=1), 'min_samples_split': IntDistribution(high=10, log=False, low=2, step=1), 'min_samples_leaf': IntDistribution(high=10, log=False, low=1, step=1)}, trial_id=13, value=None)\n",
            "Best hyperparameters: {'n_estimators': 87, 'max_depth': 30, 'min_samples_split': 7, 'min_samples_leaf': 1}\n"
          ]
        }
      ]
    },
    {
      "cell_type": "code",
      "source": [
        "model = RandomForestRegressor(**study.best_params)\n",
        "model.fit(x_train_peach, y_train_peach)\n",
        "y_pred_peach = model.predict(x_test_peach)\n",
        "mae = mean_absolute_error(y_test_peach, y_pred_peach)\n",
        "mae"
      ],
      "metadata": {
        "colab": {
          "base_uri": "https://localhost:8080/"
        },
        "id": "vyi5qt7zEbup",
        "outputId": "e6f4385a-fc70-4b7b-a836-279b56d9be0e"
      },
      "execution_count": null,
      "outputs": [
        {
          "output_type": "execute_result",
          "data": {
            "text/plain": [
              "3.676880115729738"
            ]
          },
          "metadata": {},
          "execution_count": 22
        }
      ]
    },
    {
      "cell_type": "markdown",
      "source": [
        "#Xgboost"
      ],
      "metadata": {
        "id": "lujYtaBNKWGZ"
      }
    },
    {
      "cell_type": "code",
      "source": [
        "from sklearn.preprocessing import StandardScaler\n",
        "import xgboost"
      ],
      "metadata": {
        "id": "dV0tu3KWK4T0"
      },
      "execution_count": null,
      "outputs": []
    },
    {
      "cell_type": "code",
      "source": [
        "# Scale the data\n",
        "scaler = StandardScaler()\n",
        "x_train_peach = scaler.fit_transform(x_train_peach)\n",
        "x_test_peach = scaler.transform(x_test_peach)"
      ],
      "metadata": {
        "id": "ikJPJn3SKhd9"
      },
      "execution_count": null,
      "outputs": []
    },
    {
      "cell_type": "code",
      "source": [
        "model = xgboost.XGBRegressor()\n",
        "model.fit(x_train_peach, y_train_peach)\n",
        "y_predict_peach = model.predict(x_test_peach)\n",
        "y_predict_peach=np.round(y_predict_peach)"
      ],
      "metadata": {
        "id": "3tM3iDjlE14s"
      },
      "execution_count": null,
      "outputs": []
    },
    {
      "cell_type": "code",
      "source": [
        "mean_absolute_error(y_test_peach, y_predict_peach)"
      ],
      "metadata": {
        "id": "V-DnJ665LBMF",
        "colab": {
          "base_uri": "https://localhost:8080/"
        },
        "outputId": "329a3a1e-f5e9-4178-c3d6-45bcd0b3dbea"
      },
      "execution_count": null,
      "outputs": [
        {
          "output_type": "execute_result",
          "data": {
            "text/plain": [
              "3.92"
            ]
          },
          "metadata": {},
          "execution_count": 27
        }
      ]
    },
    {
      "cell_type": "code",
      "source": [
        "def objective(trial):\n",
        "    param = {\n",
        "        'max_depth': trial.suggest_int('max_depth', 1, 10),\n",
        "        'learning_rate': trial.suggest_float('learning_rate', 0.01, 1.0),\n",
        "        'n_estimators': trial.suggest_int('n_estimators', 50, 1000),\n",
        "        'min_child_weight': trial.suggest_int('min_child_weight', 1, 10),\n",
        "        'gamma': trial.suggest_float('gamma', 0.01, 1.0),\n",
        "        'subsample': trial.suggest_float('subsample', 0.01, 1.0),\n",
        "        'colsample_bytree': trial.suggest_float('colsample_bytree', 0.01, 1.0),\n",
        "        'reg_alpha': trial.suggest_float('reg_alpha', 0.01, 1.0),\n",
        "        'reg_lambda': trial.suggest_float('reg_lambda', 0.01, 1.0),\n",
        "        'random_state': trial.suggest_int('random_state', 1, 1000)\n",
        "    }\n",
        "    model = xgboost.XGBRegressor(**param)\n",
        "    model.fit(x_train_peach, y_train_peach)\n",
        "    y_pred_peach = model.predict(x_test_peach)\n",
        "    return mean_squared_error(y_test_peach, y_pred_peach)"
      ],
      "metadata": {
        "id": "ZZFwfJHgLB5M"
      },
      "execution_count": null,
      "outputs": []
    },
    {
      "cell_type": "code",
      "source": [
        "study = optuna.create_study(direction='minimize', study_name='regression')\n",
        "study.optimize(objective, n_trials=100)"
      ],
      "metadata": {
        "id": "TSwmyFKGLQaP",
        "colab": {
          "base_uri": "https://localhost:8080/"
        },
        "outputId": "d18988f4-d025-4461-9d25-697dc60ae5e1"
      },
      "execution_count": null,
      "outputs": [
        {
          "output_type": "stream",
          "name": "stderr",
          "text": [
            "[I 2023-10-02 02:33:58,434] A new study created in memory with name: regression\n",
            "[I 2023-10-02 02:33:59,000] Trial 0 finished with value: 2.703888945321654e+38 and parameters: {'max_depth': 9, 'learning_rate': 0.9365127479569196, 'n_estimators': 955, 'min_child_weight': 5, 'gamma': 0.25297898280265807, 'subsample': 0.045531428430309565, 'colsample_bytree': 0.26303831190413485, 'reg_alpha': 0.5613711229658509, 'reg_lambda': 0.06559886072192428, 'random_state': 23}. Best is trial 0 with value: 2.703888945321654e+38.\n",
            "[I 2023-10-02 02:33:59,701] Trial 1 finished with value: 40.818798939242264 and parameters: {'max_depth': 3, 'learning_rate': 0.31623550726755734, 'n_estimators': 423, 'min_child_weight': 4, 'gamma': 0.2613278266229911, 'subsample': 0.4497803009613127, 'colsample_bytree': 0.5750184042905974, 'reg_alpha': 0.85746808625259, 'reg_lambda': 0.47871569952869186, 'random_state': 635}. Best is trial 1 with value: 40.818798939242264.\n",
            "[I 2023-10-02 02:34:02,317] Trial 2 finished with value: 35.21242225485272 and parameters: {'max_depth': 7, 'learning_rate': 0.3482508653389124, 'n_estimators': 446, 'min_child_weight': 7, 'gamma': 0.8590666009202071, 'subsample': 0.674968939072344, 'colsample_bytree': 0.9532398711354917, 'reg_alpha': 0.184466805154873, 'reg_lambda': 0.7758715551313013, 'random_state': 164}. Best is trial 2 with value: 35.21242225485272.\n",
            "[I 2023-10-02 02:34:02,624] Trial 3 finished with value: 32.36732671854508 and parameters: {'max_depth': 3, 'learning_rate': 0.08179168662793385, 'n_estimators': 355, 'min_child_weight': 6, 'gamma': 0.047603750050734646, 'subsample': 0.13394452026007445, 'colsample_bytree': 0.49199777651375814, 'reg_alpha': 0.8762246804864373, 'reg_lambda': 0.3668133354579826, 'random_state': 8}. Best is trial 3 with value: 32.36732671854508.\n",
            "[I 2023-10-02 02:34:03,043] Trial 4 finished with value: 30.421455587710078 and parameters: {'max_depth': 8, 'learning_rate': 0.11295065157057142, 'n_estimators': 162, 'min_child_weight': 6, 'gamma': 0.021804805298972336, 'subsample': 0.48008157889319414, 'colsample_bytree': 0.34918764397736063, 'reg_alpha': 0.9435321408538382, 'reg_lambda': 0.766598823029502, 'random_state': 431}. Best is trial 4 with value: 30.421455587710078.\n",
            "[I 2023-10-02 02:34:03,291] Trial 5 finished with value: 72.14362141074423 and parameters: {'max_depth': 4, 'learning_rate': 0.7949143848229693, 'n_estimators': 348, 'min_child_weight': 6, 'gamma': 0.01637966815396583, 'subsample': 0.5385377568167142, 'colsample_bytree': 0.033962904959332664, 'reg_alpha': 0.31053597251711523, 'reg_lambda': 0.7215938763381536, 'random_state': 567}. Best is trial 4 with value: 30.421455587710078.\n",
            "[I 2023-10-02 02:34:09,764] Trial 6 finished with value: 31.26880782266424 and parameters: {'max_depth': 6, 'learning_rate': 0.20156407077306682, 'n_estimators': 640, 'min_child_weight': 5, 'gamma': 0.7634122882013313, 'subsample': 0.8850556422855068, 'colsample_bytree': 0.7922986816404556, 'reg_alpha': 0.8190836896430183, 'reg_lambda': 0.34034165366095687, 'random_state': 619}. Best is trial 4 with value: 30.421455587710078.\n",
            "[I 2023-10-02 02:34:11,537] Trial 7 finished with value: 28.841335848472664 and parameters: {'max_depth': 7, 'learning_rate': 0.048620926757796064, 'n_estimators': 610, 'min_child_weight': 7, 'gamma': 0.13410958224734024, 'subsample': 0.9196692592661306, 'colsample_bytree': 0.2284502812947382, 'reg_alpha': 0.8600490254257561, 'reg_lambda': 0.7827448646795223, 'random_state': 711}. Best is trial 7 with value: 28.841335848472664.\n",
            "[I 2023-10-02 02:34:16,607] Trial 8 finished with value: 67.7528975918323 and parameters: {'max_depth': 8, 'learning_rate': 0.8593361996200525, 'n_estimators': 444, 'min_child_weight': 10, 'gamma': 0.060497547503181225, 'subsample': 0.6056185633748702, 'colsample_bytree': 0.9849731050941417, 'reg_alpha': 0.20952796707883778, 'reg_lambda': 0.6200243846790869, 'random_state': 340}. Best is trial 7 with value: 28.841335848472664.\n",
            "[I 2023-10-02 02:34:23,243] Trial 9 finished with value: 34.51286658615034 and parameters: {'max_depth': 7, 'learning_rate': 0.28836031564172704, 'n_estimators': 608, 'min_child_weight': 1, 'gamma': 0.30830266323421956, 'subsample': 0.5446045459340602, 'colsample_bytree': 0.8075113418163619, 'reg_alpha': 0.22583187735079727, 'reg_lambda': 0.574995175776229, 'random_state': 551}. Best is trial 7 with value: 28.841335848472664.\n",
            "[I 2023-10-02 02:34:23,599] Trial 10 finished with value: 35.12768537661162 and parameters: {'max_depth': 1, 'learning_rate': 0.5092866645700372, 'n_estimators': 823, 'min_child_weight': 9, 'gamma': 0.5500672841005679, 'subsample': 0.9723003403691943, 'colsample_bytree': 0.013344194396376796, 'reg_alpha': 0.01259416956379067, 'reg_lambda': 0.9236145146022781, 'random_state': 949}. Best is trial 7 with value: 28.841335848472664.\n",
            "[I 2023-10-02 02:34:23,755] Trial 11 finished with value: 569.0071106842397 and parameters: {'max_depth': 10, 'learning_rate': 0.021164330898135048, 'n_estimators': 68, 'min_child_weight': 8, 'gamma': 0.16206717548886138, 'subsample': 0.7935726901787173, 'colsample_bytree': 0.277793428552765, 'reg_alpha': 0.9737678759429033, 'reg_lambda': 0.9140477871315167, 'random_state': 846}. Best is trial 7 with value: 28.841335848472664.\n",
            "[I 2023-10-02 02:34:24,039] Trial 12 finished with value: 37.227328403524155 and parameters: {'max_depth': 9, 'learning_rate': 0.03433270952849854, 'n_estimators': 117, 'min_child_weight': 3, 'gamma': 0.3999337403165246, 'subsample': 0.36183636707826383, 'colsample_bytree': 0.2577413003020842, 'reg_alpha': 0.7047542901658218, 'reg_lambda': 0.7997646728431873, 'random_state': 331}. Best is trial 7 with value: 28.841335848472664.\n",
            "[I 2023-10-02 02:34:24,554] Trial 13 finished with value: 29.068152321438394 and parameters: {'max_depth': 5, 'learning_rate': 0.17797834325708398, 'n_estimators': 232, 'min_child_weight': 8, 'gamma': 0.17664101595217335, 'subsample': 0.7341330578100187, 'colsample_bytree': 0.3555030521892373, 'reg_alpha': 0.9883013179843119, 'reg_lambda': 0.9876349662421491, 'random_state': 774}. Best is trial 7 with value: 28.841335848472664.\n",
            "[I 2023-10-02 02:34:25,158] Trial 14 finished with value: 30.151457789825944 and parameters: {'max_depth': 5, 'learning_rate': 0.1799670016960801, 'n_estimators': 234, 'min_child_weight': 8, 'gamma': 0.5335681057655808, 'subsample': 0.774651954199386, 'colsample_bytree': 0.427218657089772, 'reg_alpha': 0.7118311329357321, 'reg_lambda': 0.9567791477541217, 'random_state': 800}. Best is trial 7 with value: 28.841335848472664.\n",
            "[I 2023-10-02 02:34:26,111] Trial 15 finished with value: 37.4555043170767 and parameters: {'max_depth': 5, 'learning_rate': 0.48555614138723885, 'n_estimators': 700, 'min_child_weight': 10, 'gamma': 0.15836678830447412, 'subsample': 0.9509198963080231, 'colsample_bytree': 0.15168412000811304, 'reg_alpha': 0.9547897505873766, 'reg_lambda': 0.9916788255202069, 'random_state': 706}. Best is trial 7 with value: 28.841335848472664.\n",
            "[I 2023-10-02 02:34:27,154] Trial 16 finished with value: 29.400931138719606 and parameters: {'max_depth': 6, 'learning_rate': 0.01064519972638081, 'n_estimators': 765, 'min_child_weight': 8, 'gamma': 0.4096981194208962, 'subsample': 0.8267270354416556, 'colsample_bytree': 0.14815627299932185, 'reg_alpha': 0.7568463000932366, 'reg_lambda': 0.8597107808214673, 'random_state': 990}. Best is trial 7 with value: 28.841335848472664.\n",
            "[I 2023-10-02 02:34:27,723] Trial 17 finished with value: 32.873989450037044 and parameters: {'max_depth': 2, 'learning_rate': 0.20526714664918744, 'n_estimators': 560, 'min_child_weight': 7, 'gamma': 0.18679824436023373, 'subsample': 0.7142194457479892, 'colsample_bytree': 0.42771847796311224, 'reg_alpha': 0.9974588700648948, 'reg_lambda': 0.9991885410637262, 'random_state': 754}. Best is trial 7 with value: 28.841335848472664.\n",
            "[I 2023-10-02 02:34:28,429] Trial 18 finished with value: 29.930189154714462 and parameters: {'max_depth': 4, 'learning_rate': 0.1358099320810589, 'n_estimators': 290, 'min_child_weight': 9, 'gamma': 0.37737179040503466, 'subsample': 0.8663305336945376, 'colsample_bytree': 0.5937883475548624, 'reg_alpha': 0.6112474198155344, 'reg_lambda': 0.8590439012648581, 'random_state': 884}. Best is trial 7 with value: 28.841335848472664.\n",
            "[I 2023-10-02 02:34:31,138] Trial 19 finished with value: 42.746336622185915 and parameters: {'max_depth': 7, 'learning_rate': 0.419821421304476, 'n_estimators': 905, 'min_child_weight': 3, 'gamma': 0.1758738757259034, 'subsample': 0.6952851496430206, 'colsample_bytree': 0.35704175439208885, 'reg_alpha': 0.8464081809029886, 'reg_lambda': 0.6894170543044413, 'random_state': 453}. Best is trial 7 with value: 28.841335848472664.\n",
            "[I 2023-10-02 02:34:31,715] Trial 20 finished with value: 31.77176127716957 and parameters: {'max_depth': 4, 'learning_rate': 0.24320397861462645, 'n_estimators': 498, 'min_child_weight': 7, 'gamma': 0.1278390222291301, 'subsample': 0.9804389880082027, 'colsample_bytree': 0.1608045564555839, 'reg_alpha': 0.6232878962844407, 'reg_lambda': 0.8814243960246922, 'random_state': 709}. Best is trial 7 with value: 28.841335848472664.\n",
            "[I 2023-10-02 02:34:35,919] Trial 21 finished with value: 30.100742254908546 and parameters: {'max_depth': 6, 'learning_rate': 0.018906988965080945, 'n_estimators': 776, 'min_child_weight': 8, 'gamma': 0.4089463739136854, 'subsample': 0.835427699568255, 'colsample_bytree': 0.14148999094682374, 'reg_alpha': 0.7668954705948263, 'reg_lambda': 0.8370953747867246, 'random_state': 902}. Best is trial 7 with value: 28.841335848472664.\n",
            "[I 2023-10-02 02:34:37,074] Trial 22 finished with value: 30.229215482592263 and parameters: {'max_depth': 6, 'learning_rate': 0.11101639276135378, 'n_estimators': 695, 'min_child_weight': 9, 'gamma': 0.30370364456297116, 'subsample': 0.8895816047114248, 'colsample_bytree': 0.18267979398051576, 'reg_alpha': 0.7608462982378015, 'reg_lambda': 0.8636731707946885, 'random_state': 985}. Best is trial 7 with value: 28.841335848472664.\n",
            "[I 2023-10-02 02:34:37,901] Trial 23 finished with value: 30.201804636614398 and parameters: {'max_depth': 5, 'learning_rate': 0.015151095775347246, 'n_estimators': 781, 'min_child_weight': 8, 'gamma': 0.48340222970191493, 'subsample': 0.7804617917488577, 'colsample_bytree': 0.11490924644315251, 'reg_alpha': 0.9021357562256792, 'reg_lambda': 0.989602289298904, 'random_state': 784}. Best is trial 7 with value: 28.841335848472664.\n",
            "[I 2023-10-02 02:34:40,067] Trial 24 finished with value: 30.473628207964065 and parameters: {'max_depth': 8, 'learning_rate': 0.12619305285905702, 'n_estimators': 847, 'min_child_weight': 7, 'gamma': 0.2479906714528668, 'subsample': 0.9968160546745539, 'colsample_bytree': 0.24214218346068878, 'reg_alpha': 0.8995569330564989, 'reg_lambda': 0.8376083382580135, 'random_state': 994}. Best is trial 7 with value: 28.841335848472664.\n",
            "[I 2023-10-02 02:34:40,758] Trial 25 finished with value: 46.7457146003902 and parameters: {'max_depth': 7, 'learning_rate': 0.18010660936704437, 'n_estimators': 703, 'min_child_weight': 9, 'gamma': 0.12172069575954372, 'subsample': 0.8742464288144598, 'colsample_bytree': 0.07112878113163615, 'reg_alpha': 0.7916334580449572, 'reg_lambda': 0.7063557642837353, 'random_state': 674}. Best is trial 7 with value: 28.841335848472664.\n",
            "[I 2023-10-02 02:34:41,812] Trial 26 finished with value: 32.435475963307546 and parameters: {'max_depth': 6, 'learning_rate': 0.08680721855781523, 'n_estimators': 997, 'min_child_weight': 10, 'gamma': 0.6159985093394421, 'subsample': 0.7605252049593113, 'colsample_bytree': 0.08351396194987049, 'reg_alpha': 0.6918144853613167, 'reg_lambda': 0.9184111031309402, 'random_state': 847}. Best is trial 7 with value: 28.841335848472664.\n",
            "[I 2023-10-02 02:34:42,619] Trial 27 finished with value: 33.87301039966886 and parameters: {'max_depth': 5, 'learning_rate': 0.251265846223896, 'n_estimators': 574, 'min_child_weight': 7, 'gamma': 0.3251840706279287, 'subsample': 0.6351125796351264, 'colsample_bytree': 0.1928450702349378, 'reg_alpha': 0.9873169742663249, 'reg_lambda': 0.8088711549802343, 'random_state': 764}. Best is trial 7 with value: 28.841335848472664.\n",
            "[I 2023-10-02 02:34:42,939] Trial 28 finished with value: 31.52130644318997 and parameters: {'max_depth': 3, 'learning_rate': 0.151479982585599, 'n_estimators': 207, 'min_child_weight': 8, 'gamma': 0.08532399515502019, 'subsample': 0.9160782360057464, 'colsample_bytree': 0.3274670820841655, 'reg_alpha': 0.8097500921158838, 'reg_lambda': 0.9151540289853584, 'random_state': 941}. Best is trial 7 with value: 28.841335848472664.\n",
            "[I 2023-10-02 02:34:45,752] Trial 29 finished with value: 27.587923475470742 and parameters: {'max_depth': 9, 'learning_rate': 0.0616640614947364, 'n_estimators': 903, 'min_child_weight': 5, 'gamma': 0.23230966472258968, 'subsample': 0.8151142073109452, 'colsample_bytree': 0.2730599117424777, 'reg_alpha': 0.5264324973000623, 'reg_lambda': 0.7528737690451925, 'random_state': 818}. Best is trial 29 with value: 27.587923475470742.\n",
            "[I 2023-10-02 02:34:51,865] Trial 30 finished with value: 29.917730551622082 and parameters: {'max_depth': 10, 'learning_rate': 0.08520863743180901, 'n_estimators': 911, 'min_child_weight': 4, 'gamma': 0.22940495400676175, 'subsample': 0.7423002367899219, 'colsample_bytree': 0.23473676366346025, 'reg_alpha': 0.5180714186119555, 'reg_lambda': 0.6567824836157279, 'random_state': 534}. Best is trial 29 with value: 27.587923475470742.\n",
            "[I 2023-10-02 02:34:55,089] Trial 31 finished with value: 28.1761026177663 and parameters: {'max_depth': 9, 'learning_rate': 0.06533648872981346, 'n_estimators': 909, 'min_child_weight': 5, 'gamma': 0.21599541492696506, 'subsample': 0.828454852099922, 'colsample_bytree': 0.3049053916741857, 'reg_alpha': 0.45907700288424835, 'reg_lambda': 0.7577100392227095, 'random_state': 892}. Best is trial 29 with value: 27.587923475470742.\n",
            "[I 2023-10-02 02:34:58,454] Trial 32 finished with value: 29.179253679869145 and parameters: {'max_depth': 9, 'learning_rate': 0.07888323589807374, 'n_estimators': 920, 'min_child_weight': 4, 'gamma': 0.217639299734344, 'subsample': 0.9157287497627372, 'colsample_bytree': 0.3092289654749153, 'reg_alpha': 0.5699753542332799, 'reg_lambda': 0.7430973770432394, 'random_state': 847}. Best is trial 29 with value: 27.587923475470742.\n",
            "[I 2023-10-02 02:35:09,218] Trial 33 finished with value: 30.349361198021796 and parameters: {'max_depth': 9, 'learning_rate': 0.2390014649077928, 'n_estimators': 862, 'min_child_weight': 5, 'gamma': 0.11045522177181022, 'subsample': 0.837837430028524, 'colsample_bytree': 0.3897157937012853, 'reg_alpha': 0.44433235428905676, 'reg_lambda': 0.7819174836384339, 'random_state': 634}. Best is trial 29 with value: 27.587923475470742.\n",
            "[I 2023-10-02 02:35:13,179] Trial 34 finished with value: 34.29534567627648 and parameters: {'max_depth': 10, 'learning_rate': 0.3228836185118453, 'n_estimators': 983, 'min_child_weight': 3, 'gamma': 0.24760749699414764, 'subsample': 0.7113807942647461, 'colsample_bytree': 0.2999802426763499, 'reg_alpha': 0.45404600267155515, 'reg_lambda': 0.6433594573603494, 'random_state': 736}. Best is trial 29 with value: 27.587923475470742.\n",
            "[I 2023-10-02 02:35:14,502] Trial 35 finished with value: 28.780459957097047 and parameters: {'max_depth': 8, 'learning_rate': 0.07244158008707444, 'n_estimators': 511, 'min_child_weight': 6, 'gamma': 0.08784559481215598, 'subsample': 0.818433544541681, 'colsample_bytree': 0.21710879698851682, 'reg_alpha': 0.8965699104260325, 'reg_lambda': 0.748387418817417, 'random_state': 811}. Best is trial 29 with value: 27.587923475470742.\n",
            "[I 2023-10-02 02:35:15,773] Trial 36 finished with value: 29.101355554063776 and parameters: {'max_depth': 8, 'learning_rate': 0.07124793676483283, 'n_estimators': 490, 'min_child_weight': 6, 'gamma': 0.011325349917798239, 'subsample': 0.9290203596912187, 'colsample_bytree': 0.22286951024991403, 'reg_alpha': 0.8632045260781654, 'reg_lambda': 0.7432913776317973, 'random_state': 892}. Best is trial 29 with value: 27.587923475470742.\n",
            "[I 2023-10-02 02:35:20,274] Trial 37 finished with value: 29.774785877894466 and parameters: {'max_depth': 9, 'learning_rate': 0.1417056469609334, 'n_estimators': 418, 'min_child_weight': 5, 'gamma': 0.05833939685947197, 'subsample': 0.9998829952599947, 'colsample_bytree': 0.22168961520275549, 'reg_alpha': 0.38833824250554055, 'reg_lambda': 0.5196414740456345, 'random_state': 814}. Best is trial 29 with value: 27.587923475470742.\n",
            "[I 2023-10-02 02:35:22,071] Trial 38 finished with value: 27.474693567991054 and parameters: {'max_depth': 8, 'learning_rate': 0.062837475338004, 'n_estimators': 651, 'min_child_weight': 6, 'gamma': 0.08581943398853406, 'subsample': 0.8138250920383718, 'colsample_bytree': 0.2761055832061227, 'reg_alpha': 0.6482499380852758, 'reg_lambda': 0.7095401523517118, 'random_state': 74}. Best is trial 38 with value: 27.474693567991054.\n",
            "[I 2023-10-02 02:35:23,171] Trial 39 finished with value: 28.880227210416923 and parameters: {'max_depth': 8, 'learning_rate': 0.07987690381613106, 'n_estimators': 371, 'min_child_weight': 6, 'gamma': 0.08046862356468627, 'subsample': 0.6478489164387494, 'colsample_bytree': 0.2931119181807286, 'reg_alpha': 0.6343714506537758, 'reg_lambda': 0.5929035907041303, 'random_state': 187}. Best is trial 38 with value: 27.474693567991054.\n",
            "[I 2023-10-02 02:35:28,352] Trial 40 finished with value: 28.559836907114367 and parameters: {'max_depth': 9, 'learning_rate': 0.12482429279415351, 'n_estimators': 938, 'min_child_weight': 4, 'gamma': 0.05367124929708228, 'subsample': 0.8022675092997885, 'colsample_bytree': 0.5016314898492387, 'reg_alpha': 0.5348339341511408, 'reg_lambda': 0.6608418695289054, 'random_state': 122}. Best is trial 38 with value: 27.474693567991054.\n",
            "[I 2023-10-02 02:35:37,171] Trial 41 finished with value: 29.969725589863227 and parameters: {'max_depth': 9, 'learning_rate': 0.12472592991952142, 'n_estimators': 934, 'min_child_weight': 4, 'gamma': 0.05601794059780879, 'subsample': 0.8069549928920874, 'colsample_bytree': 0.4935605403553016, 'reg_alpha': 0.5287148002096512, 'reg_lambda': 0.6954992077149826, 'random_state': 103}. Best is trial 38 with value: 27.474693567991054.\n",
            "[I 2023-10-02 02:35:41,455] Trial 42 finished with value: 28.547746337427526 and parameters: {'max_depth': 10, 'learning_rate': 0.05981563868320754, 'n_estimators': 821, 'min_child_weight': 5, 'gamma': 0.014143735980873436, 'subsample': 0.8468615666255663, 'colsample_bytree': 0.434852786255175, 'reg_alpha': 0.5583863387455786, 'reg_lambda': 0.7533572569154381, 'random_state': 69}. Best is trial 38 with value: 27.474693567991054.\n",
            "[I 2023-10-02 02:35:50,057] Trial 43 finished with value: 28.264415668568837 and parameters: {'max_depth': 10, 'learning_rate': 0.05236941928497246, 'n_estimators': 875, 'min_child_weight': 5, 'gamma': 0.017366690590477435, 'subsample': 0.8649864711905, 'colsample_bytree': 0.5495526923890179, 'reg_alpha': 0.5659105943161138, 'reg_lambda': 0.6679189191003848, 'random_state': 90}. Best is trial 38 with value: 27.474693567991054.\n",
            "[I 2023-10-02 02:35:55,132] Trial 44 finished with value: 27.770620781995966 and parameters: {'max_depth': 10, 'learning_rate': 0.05312644895698888, 'n_estimators': 829, 'min_child_weight': 5, 'gamma': 0.033964003851902735, 'subsample': 0.8721809996725899, 'colsample_bytree': 0.5701619706591581, 'reg_alpha': 0.5738306530117757, 'reg_lambda': 0.7023027434683836, 'random_state': 49}. Best is trial 38 with value: 27.474693567991054.\n",
            "[I 2023-10-02 02:36:04,157] Trial 45 finished with value: 27.859714204441843 and parameters: {'max_depth': 10, 'learning_rate': 0.040579582988435996, 'n_estimators': 875, 'min_child_weight': 5, 'gamma': 0.1236060703820543, 'subsample': 0.8946309398332571, 'colsample_bytree': 0.6291647842110205, 'reg_alpha': 0.47416811801243763, 'reg_lambda': 0.6021680204869803, 'random_state': 199}. Best is trial 38 with value: 27.474693567991054.\n",
            "[I 2023-10-02 02:36:09,539] Trial 46 finished with value: 30.835802984575857 and parameters: {'max_depth': 10, 'learning_rate': 0.22092875925226968, 'n_estimators': 656, 'min_child_weight': 6, 'gamma': 0.13490790726565358, 'subsample': 0.9510695782262506, 'colsample_bytree': 0.5771725892127446, 'reg_alpha': 0.4784740781090244, 'reg_lambda': 0.5633276542742818, 'random_state': 221}. Best is trial 38 with value: 27.474693567991054.\n",
            "[I 2023-10-02 02:36:17,704] Trial 47 finished with value: 33.46925916610868 and parameters: {'max_depth': 9, 'learning_rate': 0.27859050107885147, 'n_estimators': 739, 'min_child_weight': 3, 'gamma': 0.20293655573732072, 'subsample': 0.8973099116570479, 'colsample_bytree': 0.6423712676018212, 'reg_alpha': 0.36722342940358543, 'reg_lambda': 0.6122860647220855, 'random_state': 5}. Best is trial 38 with value: 27.474693567991054.\n",
            "[I 2023-10-02 02:36:23,813] Trial 48 finished with value: 32.05740964093813 and parameters: {'max_depth': 10, 'learning_rate': 0.17640361752038553, 'n_estimators': 807, 'min_child_weight': 2, 'gamma': 0.2825842022034759, 'subsample': 0.6733358322980841, 'colsample_bytree': 0.6609204564085764, 'reg_alpha': 0.47124246210902443, 'reg_lambda': 0.7145151452306994, 'random_state': 253}. Best is trial 38 with value: 27.474693567991054.\n",
            "[I 2023-10-02 02:36:29,435] Trial 49 finished with value: 27.101276459457004 and parameters: {'max_depth': 8, 'learning_rate': 0.0181002955090811, 'n_estimators': 967, 'min_child_weight': 5, 'gamma': 0.15381941723551706, 'subsample': 0.7583787284845513, 'colsample_bytree': 0.26747332245038213, 'reg_alpha': 0.49470542754595126, 'reg_lambda': 0.44062967403060316, 'random_state': 55}. Best is trial 49 with value: 27.101276459457004.\n",
            "[I 2023-10-02 02:36:33,074] Trial 50 finished with value: 27.640428451072513 and parameters: {'max_depth': 8, 'learning_rate': 0.016155321964587983, 'n_estimators': 966, 'min_child_weight': 5, 'gamma': 0.14784049532447696, 'subsample': 0.7570774769012147, 'colsample_bytree': 0.4543583746341826, 'reg_alpha': 0.5988134039520069, 'reg_lambda': 0.41925529224150987, 'random_state': 43}. Best is trial 49 with value: 27.101276459457004.\n",
            "[I 2023-10-02 02:36:36,848] Trial 51 finished with value: 27.32644006046845 and parameters: {'max_depth': 8, 'learning_rate': 0.014400484583008988, 'n_estimators': 966, 'min_child_weight': 5, 'gamma': 0.15512909342058567, 'subsample': 0.7576660698798798, 'colsample_bytree': 0.46739635957477993, 'reg_alpha': 0.6578419874283804, 'reg_lambda': 0.4175759119117678, 'random_state': 59}. Best is trial 49 with value: 27.101276459457004.\n",
            "[I 2023-10-02 02:36:44,035] Trial 52 finished with value: 28.126845488948746 and parameters: {'max_depth': 8, 'learning_rate': 0.03663243379912077, 'n_estimators': 969, 'min_child_weight': 4, 'gamma': 0.15810170019322833, 'subsample': 0.7014439968658776, 'colsample_bytree': 0.4600585601055104, 'reg_alpha': 0.6520460283504272, 'reg_lambda': 0.4203721202599071, 'random_state': 45}. Best is trial 49 with value: 27.101276459457004.\n",
            "[I 2023-10-02 02:36:47,087] Trial 53 finished with value: 27.520750638519967 and parameters: {'max_depth': 7, 'learning_rate': 0.10539609511432574, 'n_estimators': 977, 'min_child_weight': 6, 'gamma': 0.09957834194074941, 'subsample': 0.762989935503108, 'colsample_bytree': 0.38578580853964545, 'reg_alpha': 0.5992790973630023, 'reg_lambda': 0.37697157063948245, 'random_state': 141}. Best is trial 49 with value: 27.101276459457004.\n",
            "[I 2023-10-02 02:36:49,945] Trial 54 finished with value: 28.736704325863393 and parameters: {'max_depth': 7, 'learning_rate': 0.10603841567305446, 'n_estimators': 958, 'min_child_weight': 6, 'gamma': 0.1844246049483457, 'subsample': 0.7515544300522671, 'colsample_bytree': 0.35385438504612915, 'reg_alpha': 0.6017388534638597, 'reg_lambda': 0.34066075651941496, 'random_state': 129}. Best is trial 49 with value: 27.101276459457004.\n",
            "[I 2023-10-02 02:36:55,352] Trial 55 finished with value: 28.425594446654433 and parameters: {'max_depth': 7, 'learning_rate': 0.012272162734646944, 'n_estimators': 971, 'min_child_weight': 6, 'gamma': 0.1530149855742403, 'subsample': 0.7558999977169618, 'colsample_bytree': 0.2675575206476556, 'reg_alpha': 0.6908969515427846, 'reg_lambda': 0.39994436116869986, 'random_state': 278}. Best is trial 49 with value: 27.101276459457004.\n",
            "[I 2023-10-02 02:36:59,095] Trial 56 finished with value: 30.669405181582405 and parameters: {'max_depth': 8, 'learning_rate': 0.1488075343367625, 'n_estimators': 999, 'min_child_weight': 4, 'gamma': 0.09390058414759782, 'subsample': 0.7745340104411688, 'colsample_bytree': 0.3889329733043762, 'reg_alpha': 0.6556275139156599, 'reg_lambda': 0.2850544508408429, 'random_state': 143}. Best is trial 49 with value: 27.101276459457004.\n",
            "[I 2023-10-02 02:37:01,372] Trial 57 finished with value: 27.85340320880219 and parameters: {'max_depth': 7, 'learning_rate': 0.012792222081331621, 'n_estimators': 885, 'min_child_weight': 5, 'gamma': 0.1845021907314428, 'subsample': 0.5783024832681607, 'colsample_bytree': 0.3854869663085839, 'reg_alpha': 0.6084245222617388, 'reg_lambda': 0.48100923000146617, 'random_state': 376}. Best is trial 49 with value: 27.101276459457004.\n",
            "[I 2023-10-02 02:37:07,710] Trial 58 finished with value: 30.65507979037633 and parameters: {'max_depth': 8, 'learning_rate': 0.10488378212325314, 'n_estimators': 951, 'min_child_weight': 6, 'gamma': 0.1146427216152588, 'subsample': 0.6795457416606961, 'colsample_bytree': 0.33205309175905673, 'reg_alpha': 0.5004438475909071, 'reg_lambda': 0.45243278455277314, 'random_state': 34}. Best is trial 49 with value: 27.101276459457004.\n",
            "[I 2023-10-02 02:37:10,788] Trial 59 finished with value: 31.4534314661604 and parameters: {'max_depth': 7, 'learning_rate': 0.1984670198567971, 'n_estimators': 895, 'min_child_weight': 7, 'gamma': 0.25814394275003844, 'subsample': 0.7293464786771383, 'colsample_bytree': 0.46381551397306703, 'reg_alpha': 0.7340895728221721, 'reg_lambda': 0.31325265123680834, 'random_state': 168}. Best is trial 49 with value: 27.101276459457004.\n",
            "[I 2023-10-02 02:37:13,665] Trial 60 finished with value: 30.95126272835405 and parameters: {'max_depth': 8, 'learning_rate': 0.1542755995377261, 'n_estimators': 743, 'min_child_weight': 6, 'gamma': 0.14687576032948707, 'subsample': 0.7868573200529806, 'colsample_bytree': 0.4059870701019191, 'reg_alpha': 0.67204014996224, 'reg_lambda': 0.3820546301146651, 'random_state': 4}. Best is trial 49 with value: 27.101276459457004.\n",
            "[I 2023-10-02 02:37:16,416] Trial 61 finished with value: 30.080969556510972 and parameters: {'max_depth': 9, 'learning_rate': 0.05296274396147457, 'n_estimators': 830, 'min_child_weight': 5, 'gamma': 0.05196519495947534, 'subsample': 0.8653873511385872, 'colsample_bytree': 0.2714473343448995, 'reg_alpha': 0.588523171112878, 'reg_lambda': 0.4328823968495502, 'random_state': 62}. Best is trial 49 with value: 27.101276459457004.\n",
            "[I 2023-10-02 02:37:23,555] Trial 62 finished with value: 28.071564044155384 and parameters: {'max_depth': 8, 'learning_rate': 0.03961943642286156, 'n_estimators': 949, 'min_child_weight': 5, 'gamma': 0.08783433763935666, 'subsample': 0.7326983381796859, 'colsample_bytree': 0.45260089654112595, 'reg_alpha': 0.6447893463635858, 'reg_lambda': 0.5159232516863325, 'random_state': 86}. Best is trial 49 with value: 27.101276459457004.\n",
            "[I 2023-10-02 02:37:27,070] Trial 63 finished with value: 29.729783364890753 and parameters: {'max_depth': 7, 'learning_rate': 0.1041217006696471, 'n_estimators': 841, 'min_child_weight': 5, 'gamma': 0.042633351208566365, 'subsample': 0.7953533288228386, 'colsample_bytree': 0.5318622963203479, 'reg_alpha': 0.5863665511993019, 'reg_lambda': 0.4627740887289214, 'random_state': 36}. Best is trial 49 with value: 27.101276459457004.\n",
            "[I 2023-10-02 02:37:29,318] Trial 64 finished with value: 27.564372145196394 and parameters: {'max_depth': 8, 'learning_rate': 0.01017027087114969, 'n_estimators': 791, 'min_child_weight': 6, 'gamma': 0.16407948952195933, 'subsample': 0.8469826821252617, 'colsample_bytree': 0.3413774074045196, 'reg_alpha': 0.5557560565780285, 'reg_lambda': 0.3657753319477157, 'random_state': 153}. Best is trial 49 with value: 27.101276459457004.\n",
            "[I 2023-10-02 02:37:34,976] Trial 65 finished with value: 28.269229546096756 and parameters: {'max_depth': 8, 'learning_rate': 0.011154238775614625, 'n_estimators': 799, 'min_child_weight': 6, 'gamma': 0.21430982702274337, 'subsample': 0.8235021554095434, 'colsample_bytree': 0.34006586345166046, 'reg_alpha': 0.5429436244389999, 'reg_lambda': 0.2636379048387474, 'random_state': 155}. Best is trial 49 with value: 27.101276459457004.\n",
            "[I 2023-10-02 02:37:37,229] Trial 66 finished with value: 28.43594923320372 and parameters: {'max_depth': 8, 'learning_rate': 0.09912039945846757, 'n_estimators': 650, 'min_child_weight': 7, 'gamma': 0.17653908491056258, 'subsample': 0.7692357326974968, 'colsample_bytree': 0.36922311872550706, 'reg_alpha': 0.621234599059635, 'reg_lambda': 0.37007783550115747, 'random_state': 238}. Best is trial 49 with value: 27.101276459457004.\n",
            "[I 2023-10-02 02:37:40,325] Trial 67 finished with value: 28.486944505007415 and parameters: {'max_depth': 7, 'learning_rate': 0.03532951736283943, 'n_estimators': 925, 'min_child_weight': 4, 'gamma': 0.12118081448244673, 'subsample': 0.7139473919766313, 'colsample_bytree': 0.41791145060485346, 'reg_alpha': 0.6795412650654211, 'reg_lambda': 0.4103049187437824, 'random_state': 290}. Best is trial 49 with value: 27.101276459457004.\n",
            "[I 2023-10-02 02:37:41,008] Trial 68 finished with value: 31.063006869075323 and parameters: {'max_depth': 1, 'learning_rate': 0.0922287013176953, 'n_estimators': 997, 'min_child_weight': 6, 'gamma': 0.2298130512578418, 'subsample': 0.6583983853584544, 'colsample_bytree': 0.3298576509200256, 'reg_alpha': 0.5031759324595602, 'reg_lambda': 0.35309388808684816, 'random_state': 106}. Best is trial 49 with value: 27.101276459457004.\n",
            "[I 2023-10-02 02:37:42,831] Trial 69 finished with value: 31.99563045533796 and parameters: {'max_depth': 6, 'learning_rate': 0.17564047820324846, 'n_estimators': 864, 'min_child_weight': 7, 'gamma': 0.1476226516045328, 'subsample': 0.6237293953365054, 'colsample_bytree': 0.2577213436716298, 'reg_alpha': 0.7089628833066646, 'reg_lambda': 0.4853603318050211, 'random_state': 185}. Best is trial 49 with value: 27.101276459457004.\n",
            "[I 2023-10-02 02:37:49,044] Trial 70 finished with value: 26.862968380123494 and parameters: {'max_depth': 9, 'learning_rate': 0.06144858368592065, 'n_estimators': 895, 'min_child_weight': 6, 'gamma': 0.28210253499240096, 'subsample': 0.6807677063742514, 'colsample_bytree': 0.28157670018019343, 'reg_alpha': 0.5484572029127113, 'reg_lambda': 0.44039538103519243, 'random_state': 403}. Best is trial 70 with value: 26.862968380123494.\n",
            "[I 2023-10-02 02:37:51,478] Trial 71 finished with value: 28.0857731208553 and parameters: {'max_depth': 9, 'learning_rate': 0.010123938367064295, 'n_estimators': 903, 'min_child_weight': 6, 'gamma': 0.2657998997970592, 'subsample': 0.688183315482215, 'colsample_bytree': 0.27852650535008283, 'reg_alpha': 0.5432584625995609, 'reg_lambda': 0.43886658422190794, 'random_state': 583}. Best is trial 70 with value: 26.862968380123494.\n",
            "[I 2023-10-02 02:37:54,827] Trial 72 finished with value: 27.866710611709713 and parameters: {'max_depth': 8, 'learning_rate': 0.06373328061076294, 'n_estimators': 961, 'min_child_weight': 6, 'gamma': 0.2001866604916734, 'subsample': 0.7423859573030789, 'colsample_bytree': 0.3751298530872353, 'reg_alpha': 0.6048039167162039, 'reg_lambda': 0.393566985757965, 'random_state': 328}. Best is trial 70 with value: 26.862968380123494.\n",
            "[I 2023-10-02 02:37:58,401] Trial 73 finished with value: 27.571705612893712 and parameters: {'max_depth': 9, 'learning_rate': 0.12144665265958855, 'n_estimators': 612, 'min_child_weight': 7, 'gamma': 0.1617831966457562, 'subsample': 0.7918841001552414, 'colsample_bytree': 0.29853442558217674, 'reg_alpha': 0.6295275219638936, 'reg_lambda': 0.4246878816925862, 'random_state': 393}. Best is trial 70 with value: 26.862968380123494.\n",
            "[I 2023-10-02 02:38:05,472] Trial 74 finished with value: 32.698422506736826 and parameters: {'max_depth': 9, 'learning_rate': 0.12966607964044463, 'n_estimators': 621, 'min_child_weight': 7, 'gamma': 0.3236189522729236, 'subsample': 0.8021681758552831, 'colsample_bytree': 0.30902174714104697, 'reg_alpha': 0.6427652934309164, 'reg_lambda': 0.3619923414022268, 'random_state': 458}. Best is trial 70 with value: 26.862968380123494.\n",
            "[I 2023-10-02 02:38:06,967] Trial 75 finished with value: 28.845959679292573 and parameters: {'max_depth': 9, 'learning_rate': 0.09656247533268869, 'n_estimators': 543, 'min_child_weight': 7, 'gamma': 0.17599363160488546, 'subsample': 0.8506004697512876, 'colsample_bytree': 0.1951163671445778, 'reg_alpha': 0.5529400466418862, 'reg_lambda': 0.4587017836925324, 'random_state': 385}. Best is trial 70 with value: 26.862968380123494.\n",
            "[I 2023-10-02 02:38:09,024] Trial 76 finished with value: 29.081326682739892 and parameters: {'max_depth': 9, 'learning_rate': 0.0761293421268072, 'n_estimators': 576, 'min_child_weight': 7, 'gamma': 0.09590411932945811, 'subsample': 0.8240391576133308, 'colsample_bytree': 0.29016052185568997, 'reg_alpha': 0.7227614889010121, 'reg_lambda': 0.5458905215352734, 'random_state': 461}. Best is trial 70 with value: 26.862968380123494.\n",
            "[I 2023-10-02 02:38:11,164] Trial 77 finished with value: 30.96066057657052 and parameters: {'max_depth': 9, 'learning_rate': 0.1630458852255048, 'n_estimators': 710, 'min_child_weight': 6, 'gamma': 0.07294496848174309, 'subsample': 0.7848519380356883, 'colsample_bytree': 0.24904577508311154, 'reg_alpha': 0.508838058508944, 'reg_lambda': 0.4901934869405342, 'random_state': 523}. Best is trial 70 with value: 26.862968380123494.\n",
            "[I 2023-10-02 02:38:13,500] Trial 78 finished with value: 29.46211485759297 and parameters: {'max_depth': 8, 'learning_rate': 0.11720606240754353, 'n_estimators': 677, 'min_child_weight': 6, 'gamma': 0.239653373629577, 'subsample': 0.8422811122615439, 'colsample_bytree': 0.34354145243434286, 'reg_alpha': 0.6640161429853344, 'reg_lambda': 0.32566121066139886, 'random_state': 391}. Best is trial 70 with value: 26.862968380123494.\n",
            "[I 2023-10-02 02:38:18,795] Trial 79 finished with value: 28.37191101043005 and parameters: {'max_depth': 9, 'learning_rate': 0.05099141526369228, 'n_estimators': 608, 'min_child_weight': 8, 'gamma': 0.19961293344706396, 'subsample': 0.7093764972650043, 'colsample_bytree': 0.3111291840205336, 'reg_alpha': 0.6299264713332459, 'reg_lambda': 0.38795833609716324, 'random_state': 490}. Best is trial 70 with value: 26.862968380123494.\n",
            "[I 2023-10-02 02:38:20,778] Trial 80 finished with value: 30.69072753091983 and parameters: {'max_depth': 8, 'learning_rate': 0.14133153760780928, 'n_estimators': 765, 'min_child_weight': 7, 'gamma': 0.2851028489814701, 'subsample': 0.80089434958587, 'colsample_bytree': 0.24927777977262408, 'reg_alpha': 0.5785428286870784, 'reg_lambda': 0.44372159030532266, 'random_state': 301}. Best is trial 70 with value: 26.862968380123494.\n",
            "[I 2023-10-02 02:38:24,276] Trial 81 finished with value: 28.290172464853384 and parameters: {'max_depth': 8, 'learning_rate': 0.037373013533279, 'n_estimators': 922, 'min_child_weight': 5, 'gamma': 0.13995463319453955, 'subsample': 0.7612800907515836, 'colsample_bytree': 0.4173193613656247, 'reg_alpha': 0.5964224600543148, 'reg_lambda': 0.4170342573023944, 'random_state': 72}. Best is trial 70 with value: 26.862968380123494.\n",
            "[I 2023-10-02 02:38:27,299] Trial 82 finished with value: 28.076216033424718 and parameters: {'max_depth': 8, 'learning_rate': 0.06600690918430524, 'n_estimators': 854, 'min_child_weight': 5, 'gamma': 0.13037762886419296, 'subsample': 0.7301823821703997, 'colsample_bytree': 0.3655187512297148, 'reg_alpha': 0.5667944169950996, 'reg_lambda': 0.5191598936584458, 'random_state': 120}. Best is trial 70 with value: 26.862968380123494.\n",
            "[I 2023-10-02 02:38:32,997] Trial 83 finished with value: 29.35545577558587 and parameters: {'max_depth': 7, 'learning_rate': 0.037978878184277226, 'n_estimators': 979, 'min_child_weight': 5, 'gamma': 0.11256309268217143, 'subsample': 0.7726657431517174, 'colsample_bytree': 0.2786980553211352, 'reg_alpha': 0.5286672983433507, 'reg_lambda': 0.428933390412414, 'random_state': 26}. Best is trial 70 with value: 26.862968380123494.\n",
            "[I 2023-10-02 02:38:36,585] Trial 84 finished with value: 28.867858652632275 and parameters: {'max_depth': 9, 'learning_rate': 0.07892009617189796, 'n_estimators': 903, 'min_child_weight': 4, 'gamma': 0.16749685761452637, 'subsample': 0.820107333096284, 'colsample_bytree': 0.3257398199938058, 'reg_alpha': 0.6094119745680937, 'reg_lambda': 0.37567817749702137, 'random_state': 681}. Best is trial 70 with value: 26.862968380123494.\n",
            "[I 2023-10-02 02:38:39,991] Trial 85 finished with value: 27.417442954975705 and parameters: {'max_depth': 8, 'learning_rate': 0.030871136927385634, 'n_estimators': 941, 'min_child_weight': 5, 'gamma': 0.22663394933337438, 'subsample': 0.6673487155024648, 'colsample_bytree': 0.4014485981033281, 'reg_alpha': 0.689492133008052, 'reg_lambda': 0.40547167348530716, 'random_state': 83}. Best is trial 70 with value: 26.862968380123494.\n",
            "[I 2023-10-02 02:38:45,070] Trial 86 finished with value: 28.242586475512216 and parameters: {'max_depth': 7, 'learning_rate': 0.12200979712523534, 'n_estimators': 794, 'min_child_weight': 6, 'gamma': 0.22378106700531575, 'subsample': 0.6808764729745264, 'colsample_bytree': 0.2220634722615335, 'reg_alpha': 0.7005831083333647, 'reg_lambda': 0.48099219549755606, 'random_state': 413}. Best is trial 70 with value: 26.862968380123494.\n",
            "[I 2023-10-02 02:38:48,760] Trial 87 finished with value: 27.99367803555797 and parameters: {'max_depth': 9, 'learning_rate': 0.08607436342192487, 'n_estimators': 929, 'min_child_weight': 6, 'gamma': 0.1973355976595078, 'subsample': 0.6484082659426474, 'colsample_bytree': 0.40190198980216507, 'reg_alpha': 0.6261087606039338, 'reg_lambda': 0.45864784420977733, 'random_state': 603}. Best is trial 70 with value: 26.862968380123494.\n",
            "[I 2023-10-02 02:38:52,157] Trial 88 finished with value: 28.034680348879483 and parameters: {'max_depth': 9, 'learning_rate': 0.03421632789628785, 'n_estimators': 883, 'min_child_weight': 4, 'gamma': 0.24650170571709903, 'subsample': 0.5986940666203813, 'colsample_bytree': 0.36690221453792454, 'reg_alpha': 0.6765238959660277, 'reg_lambda': 0.35317922595168405, 'random_state': 212}. Best is trial 70 with value: 26.862968380123494.\n",
            "[I 2023-10-02 02:38:58,287] Trial 89 finished with value: 28.672909995400552 and parameters: {'max_depth': 8, 'learning_rate': 0.0689363674574403, 'n_estimators': 938, 'min_child_weight': 5, 'gamma': 0.06804684616711791, 'subsample': 0.7180732084962389, 'colsample_bytree': 0.2931964579049823, 'reg_alpha': 0.7405483301672766, 'reg_lambda': 0.4008545351056522, 'random_state': 92}. Best is trial 70 with value: 26.862968380123494.\n",
            "[I 2023-10-02 02:38:59,713] Trial 90 finished with value: 29.9079180350501 and parameters: {'max_depth': 7, 'learning_rate': 0.13481109827371562, 'n_estimators': 675, 'min_child_weight': 5, 'gamma': 0.1636319260539562, 'subsample': 0.8520433396449701, 'colsample_bytree': 0.20388176189445223, 'reg_alpha': 0.6548272840373678, 'reg_lambda': 0.4949565168679087, 'random_state': 168}. Best is trial 70 with value: 26.862968380123494.\n",
            "[I 2023-10-02 02:39:03,613] Trial 91 finished with value: 28.57349904472663 and parameters: {'max_depth': 8, 'learning_rate': 0.029635348078352945, 'n_estimators': 979, 'min_child_weight': 5, 'gamma': 0.09715412919262478, 'subsample': 0.755772243602398, 'colsample_bytree': 0.43838838716482065, 'reg_alpha': 0.5819281979245902, 'reg_lambda': 0.4063042802020437, 'random_state': 61}. Best is trial 70 with value: 26.862968380123494.\n",
            "[I 2023-10-02 02:39:06,806] Trial 92 finished with value: 28.377296455892793 and parameters: {'max_depth': 8, 'learning_rate': 0.05792837247436185, 'n_estimators': 950, 'min_child_weight': 6, 'gamma': 0.15080121664081234, 'subsample': 0.7407704816728334, 'colsample_bytree': 0.34933382159351045, 'reg_alpha': 0.5625333863237948, 'reg_lambda': 0.43010503596282956, 'random_state': 144}. Best is trial 70 with value: 26.862968380123494.\n",
            "[I 2023-10-02 02:39:07,761] Trial 93 finished with value: 29.122672067443347 and parameters: {'max_depth': 8, 'learning_rate': 0.027099977371242187, 'n_estimators': 472, 'min_child_weight': 5, 'gamma': 0.2086735532817441, 'subsample': 0.7913403214405091, 'colsample_bytree': 0.17701739135741756, 'reg_alpha': 0.6291530737457391, 'reg_lambda': 0.4640707038614624, 'random_state': 27}. Best is trial 70 with value: 26.862968380123494.\n",
            "[I 2023-10-02 02:39:12,128] Trial 94 finished with value: 30.809283697920183 and parameters: {'max_depth': 2, 'learning_rate': 0.09566486166394197, 'n_estimators': 1000, 'min_child_weight': 5, 'gamma': 0.11202178920031006, 'subsample': 0.6950761127943901, 'colsample_bytree': 0.48117254539394005, 'reg_alpha': 0.5166227983047311, 'reg_lambda': 0.36920216196953953, 'random_state': 104}. Best is trial 70 with value: 26.862968380123494.\n",
            "[I 2023-10-02 02:39:14,239] Trial 95 finished with value: 28.26858242105038 and parameters: {'max_depth': 7, 'learning_rate': 0.05374625743454765, 'n_estimators': 972, 'min_child_weight': 6, 'gamma': 0.17950802427284945, 'subsample': 0.7711297243827946, 'colsample_bytree': 0.23708140857277907, 'reg_alpha': 0.54863044348198, 'reg_lambda': 0.8018027480143406, 'random_state': 79}. Best is trial 70 with value: 26.862968380123494.\n",
            "[I 2023-10-02 02:39:17,336] Trial 96 finished with value: 27.619504909398675 and parameters: {'max_depth': 9, 'learning_rate': 0.01669118634287589, 'n_estimators': 889, 'min_child_weight': 4, 'gamma': 0.22767551188528268, 'subsample': 0.8885244698842344, 'colsample_bytree': 0.3118493082593717, 'reg_alpha': 0.5918740252113235, 'reg_lambda': 0.3231565474442877, 'random_state': 123}. Best is trial 70 with value: 26.862968380123494.\n",
            "[I 2023-10-02 02:39:20,678] Trial 97 finished with value: 28.11575109700614 and parameters: {'max_depth': 10, 'learning_rate': 0.010693250699489891, 'n_estimators': 893, 'min_child_weight': 3, 'gamma': 0.2993978814721382, 'subsample': 0.9039869232258761, 'colsample_bytree': 0.3092118392609525, 'reg_alpha': 0.6995668562747289, 'reg_lambda': 0.3171093117534829, 'random_state': 358}. Best is trial 70 with value: 26.862968380123494.\n",
            "[I 2023-10-02 02:39:26,968] Trial 98 finished with value: 30.491132756063745 and parameters: {'max_depth': 9, 'learning_rate': 0.10447460906673132, 'n_estimators': 914, 'min_child_weight': 4, 'gamma': 0.2266116252113347, 'subsample': 0.871745267411455, 'colsample_bytree': 0.2590447350678048, 'reg_alpha': 0.4969259878998876, 'reg_lambda': 0.2873728826361485, 'random_state': 129}. Best is trial 70 with value: 26.862968380123494.\n",
            "[I 2023-10-02 02:39:30,280] Trial 99 finished with value: 28.46079280111444 and parameters: {'max_depth': 9, 'learning_rate': 0.07234486988946914, 'n_estimators': 746, 'min_child_weight': 2, 'gamma': 0.2638869463669917, 'subsample': 0.8113167955561528, 'colsample_bytree': 0.3844368132053928, 'reg_alpha': 0.6760498101101132, 'reg_lambda': 0.3392921434553449, 'random_state': 255}. Best is trial 70 with value: 26.862968380123494.\n"
          ]
        }
      ]
    },
    {
      "cell_type": "code",
      "source": [
        "# Print the best parameters\n",
        "print('Best parameters', study.best_params)"
      ],
      "metadata": {
        "id": "elUl342iLTjb",
        "colab": {
          "base_uri": "https://localhost:8080/"
        },
        "outputId": "f6de22d6-090d-42d7-ef4a-3b841399c546"
      },
      "execution_count": null,
      "outputs": [
        {
          "output_type": "stream",
          "name": "stdout",
          "text": [
            "Best parameters {'max_depth': 9, 'learning_rate': 0.06144858368592065, 'n_estimators': 895, 'min_child_weight': 6, 'gamma': 0.28210253499240096, 'subsample': 0.6807677063742514, 'colsample_bytree': 0.28157670018019343, 'reg_alpha': 0.5484572029127113, 'reg_lambda': 0.44039538103519243, 'random_state': 403}\n"
          ]
        }
      ]
    },
    {
      "cell_type": "code",
      "source": [
        "model = xgboost.XGBRegressor(**study.best_params)\n",
        "model.fit(x_train_peach, y_train_peach)\n",
        "y_pred_peach = model.predict(x_test_peach)\n",
        "\n",
        "print('MSE: ', mean_squared_error(y_test_peach, y_pred_peach))\n",
        "print('RMSE: ', np.sqrt(mean_squared_error(y_test_peach, y_pred_peach)))"
      ],
      "metadata": {
        "id": "9goWKbcBLV1K",
        "colab": {
          "base_uri": "https://localhost:8080/"
        },
        "outputId": "df922be5-d4ea-4dfe-e2dc-382232a2a3e6"
      },
      "execution_count": null,
      "outputs": [
        {
          "output_type": "stream",
          "name": "stdout",
          "text": [
            "MSE:  26.862968380123494\n",
            "RMSE:  5.182949775959969\n"
          ]
        }
      ]
    },
    {
      "cell_type": "code",
      "source": [
        "mean_absolute_error(y_test_peach, y_pred_peach)"
      ],
      "metadata": {
        "colab": {
          "base_uri": "https://localhost:8080/"
        },
        "id": "HXwWXRELQlrc",
        "outputId": "2cf1ea77-20d0-439f-ea85-a60c0843fb2d"
      },
      "execution_count": null,
      "outputs": [
        {
          "output_type": "execute_result",
          "data": {
            "text/plain": [
              "3.6467140197753904"
            ]
          },
          "metadata": {},
          "execution_count": 32
        }
      ]
    },
    {
      "cell_type": "markdown",
      "source": [
        "# LinearRegression"
      ],
      "metadata": {
        "id": "ZbKDDPp6QoI7"
      }
    },
    {
      "cell_type": "code",
      "source": [
        "from sklearn.linear_model import LinearRegression\n",
        "\n",
        "model=LinearRegression()\n",
        "model.fit(x_train_peach, y_train_peach)\n",
        "y_predict_peach=model.predict(x_test_peach)"
      ],
      "metadata": {
        "colab": {
          "base_uri": "https://localhost:8080/"
        },
        "id": "HloVJneeQniR",
        "outputId": "9dbeaeaa-1ed1-4bb3-c663-7b9b25d67393"
      },
      "execution_count": null,
      "outputs": [
        {
          "output_type": "execute_result",
          "data": {
            "text/plain": [
              "(400, 28)"
            ]
          },
          "metadata": {},
          "execution_count": 34
        }
      ]
    },
    {
      "cell_type": "markdown",
      "source": [
        "# RidgeRegression"
      ],
      "metadata": {
        "id": "HOJ_tohyRNt-"
      }
    },
    {
      "cell_type": "code",
      "source": [
        "from sklearn.linear_model import Ridge\n",
        "from sklearn.linear_model import RidgeCV\n",
        "\n",
        "alphas = np.arange(1, 50, 1)\n",
        "\n",
        "model1 = RidgeCV(alphas=alphas, cv=2)\n",
        "model1.fit(x_train_peach, y_train_peach)\n",
        "y_predict_peach = model1.predict(x_test_peach)"
      ],
      "metadata": {
        "id": "pPNx6bCqRQzF"
      },
      "execution_count": null,
      "outputs": []
    },
    {
      "cell_type": "code",
      "source": [
        "print('회귀계수:', model1.coef_[0])\n",
        "print('최적알파:', model1.alpha_)"
      ],
      "metadata": {
        "id": "LACzOCczR2La",
        "outputId": "2fd2c9be-31cf-4fb2-c573-fe384df088b7",
        "colab": {
          "base_uri": "https://localhost:8080/"
        }
      },
      "execution_count": null,
      "outputs": [
        {
          "output_type": "stream",
          "name": "stdout",
          "text": [
            "회귀계수: 0.20010798301713673\n",
            "최적알파: 49\n"
          ]
        }
      ]
    }
  ]
}